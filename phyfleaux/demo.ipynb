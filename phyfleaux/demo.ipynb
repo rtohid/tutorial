{
 "cells": [
  {
   "cell_type": "markdown",
   "metadata": {},
   "source": [
    "# Example 01: Matrix Multiplication"
   ]
  },
  {
   "cell_type": "code",
   "execution_count": null,
   "metadata": {
    "tags": []
   },
   "outputs": [],
   "source": [
    "# Numpy Code\n",
    "\n",
    "import numpy as np\n",
    "\n",
    "N = 2\n",
    "\n",
    "# data buffers\n",
    "list_a = [1, 2, 3, 4]\n",
    "list_b = [1, 0, 0, 1]\n",
    "\n",
    "# building numpy arrays with their data kept in above buffers \n",
    "a = np.array(list_a).reshape((N, N))\n",
    "b = np.array(list_b).reshape((N, N))\n",
    "\n",
    "# naive implementation of matrix multiplication\n",
    "def matmul(a, b, N):\n",
    "    c = np.zeros((N,N), dtype=np.int64)\n",
    "    for i in range(N):\n",
    "        for j in range(N):\n",
    "            for k in range(N):\n",
    "                c[i][j] += a[i][k] * b[k][j]\n",
    "    return c\n",
    "\n",
    "# calculate the result\n",
    "c = matmul(a, b, N)\n",
    "\n",
    "# print arrays\n",
    "printout(a, b, c)"
   ]
  },
  {
   "cell_type": "code",
   "execution_count": null,
   "metadata": {
    "tags": []
   },
   "outputs": [],
   "source": [
    "# Phyfleaux Code\n",
    "\n",
    "STELLAR_CONTAINER = True\n",
    "if STELLAR_CONTAINER:\n",
    "    sys.path.append('/home/stellar/git/phyfleaux/')\n",
    "\n",
    "from phyfleaux.directives import task     # <== added\n",
    "from phyfleaux.plugins import numpy as np # <== changed\n",
    "\n",
    "list_a = [1, 2, 3, 4]\n",
    "list_b = [1, 0, 0, 1]\n",
    "\n",
    "\n",
    "@task                                     # <== added\n",
    "def matmul(list_a, list_b, N=2):\n",
    "    a = np.array(list_a).reshape((N, N))\n",
    "    b = np.array(list_b).reshape((N, N))\n",
    "    c = np.zeros((N, N))\n",
    "\n",
    "    for i in range(N):\n",
    "        for j in range(N):\n",
    "            for k in range(N):\n",
    "                c[i][j] += a[i][k] * b[k][j]\n",
    "    return c\n",
    "\n",
    "print(matmul(list_a, list_b))\n"
   ]
  },
  {
   "cell_type": "code",
   "execution_count": null,
   "metadata": {
    "tags": []
   },
   "outputs": [],
   "source": [
    "# Phyfleaux Code\n",
    "STELLAR_CONTAINER = True\n",
    "if STELLAR_CONTAINER:\n",
    "    import sys\n",
    "    sys.path.append('/home/stellar/git/phyfleaux/')\n",
    "\n",
    "from phyfleaux.directives import polyhedral # <== added\n",
    "from phyfleaux.plugins import numpy as np   # <== changed\n",
    "\n",
    "list_a = [1, 2, 3, 4]\n",
    "list_b = [1, 0, 0, 1]\n",
    "\n",
    "\n",
    "@polyhedral                                 # <== added\n",
    "def matmul(list_a, list_b, N=2):\n",
    "    a = np.array(list_a).reshape((N, N))\n",
    "    b = np.array(list_b).reshape((N, N))\n",
    "    c = np.zeros((N, N))\n",
    "\n",
    "    for i in range(N):\n",
    "        for j in range(N):\n",
    "            for k in range(N):\n",
    "                c[i][j] += a[i][k] * b[k][j]\n",
    "    return c\n",
    "\n",
    "print(matmul(list_a, list_b))\n"
   ]
  },
  {
   "cell_type": "code",
   "execution_count": 2,
   "metadata": {
    "tags": []
   },
   "outputs": [
    {
     "output_type": "stream",
     "name": "stdout",
     "text": "[[1. 2.]\n [3. 4.]]\n"
    }
   ],
   "source": [
    "# Phyfleaux Code\n",
    "STELLAR_CONTAINER = True\n",
    "if STELLAR_CONTAINER:\n",
    "    import sys\n",
    "    sys.path.append('/home/stellar/git/phyfleaux/')\n",
    "\n",
    "from phyfleaux.directives import polyhedral # <== added\n",
    "from phyfleaux.plugins import numpy as np   # <== changed\n",
    "\n",
    "list_a = [1, 2, 3, 4]\n",
    "list_b = [1, 0, 0, 1]\n",
    "\n",
    "\n",
    "@polyhedral                                 # <== added\n",
    "def matmul(list_a, list_b, N=2):\n",
    "    a = np.array(list_a).reshape((N, N))\n",
    "    b = np.array(list_b).reshape((N, N))\n",
    "    c = np.zeros((N, N))\n",
    "\n",
    "    for i in range(N):\n",
    "        for j in range(N):\n",
    "            for k in range(N):\n",
    "                c[i][j] += a[i][k] * b[k][j]\n",
    "    return c\n",
    "\n",
    "print(matmul(list_a, list_b))\n"
   ]
  }
 ],
 "metadata": {
  "language_info": {
   "codemirror_mode": {
    "name": "ipython",
    "version": 3
   },
   "file_extension": ".py",
   "mimetype": "text/x-python",
   "name": "python",
   "nbconvert_exporter": "python",
   "pygments_lexer": "ipython3",
   "version": "3.8.0-final"
  },
  "orig_nbformat": 2,
  "kernelspec": {
   "name": "python38064bitd24ed85acd7f4511b02b52674666fc9b",
   "display_name": "Python 3.8.0 64-bit"
  }
 },
 "nbformat": 4,
 "nbformat_minor": 2
}