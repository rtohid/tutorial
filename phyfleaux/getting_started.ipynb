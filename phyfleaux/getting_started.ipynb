{
 "cells": [
  {
   "cell_type": "markdown",
   "metadata": {},
   "source": [
    "# About\n",
    "Phyfleaux is a code transformation framework for Python programs. Phyfleaux generates high-throughput code, just-in-time (JIT), based on data and computation intrinsics in snippets of an application."
   ]
  },
  {
   "cell_type": "markdown",
   "metadata": {},
   "source": [
    "Let's first make sure `phyfleaux` is on PYTHONPATH:"
   ]
  },
  {
   "cell_type": "code",
   "execution_count": null,
   "metadata": {},
   "outputs": [],
   "source": [
    "# If running from a ste||ar-container (https://github.com/rtohid/docker-build/blob/master/phyfleaux/Dockerfile.pytiramisu)\n",
    "STELLAR_CONTAINER = True\n",
    "if STELLAR_CONTAINER:\n",
    "    sys.path.append('/home/stellar/git/phyfleaux/')\n",
    "import phyfleaux"
   ]
  },
  {
   "cell_type": "markdown",
   "metadata": {},
   "source": [
    "# Getting Started\n",
    "\n",
    "## Task\n",
    "Named ordered-list of expressions; Tasks are snippets of the program known to Phyfleaux.\n",
    "\n",
    "Phyfleaux analyzes expressions within the task and, for each invokation context, apply appropriate transformations JIT. \n",
    "- There is a cost function associated to each task\n",
    "- Measurements returned by the cost functions are used to maximize applications throughput\n",
    "\n",
    "### Create Tasks\n",
    "`@task` is used to instantiate a task from a Python function"
   ]
  },
  {
   "cell_type": "code",
   "execution_count": null,
   "metadata": {},
   "outputs": [],
   "source": [
    "from phyfleaux.api.directives import task\n",
    "\n",
    "@task\n",
    "def foo(name='World'):\n",
    "    print(f\"Hello {name}!\")"
   ]
  },
  {
   "cell_type": "code",
   "execution_count": null,
   "metadata": {},
   "outputs": [],
   "source": [
    "print(type(foo))"
   ]
  },
  {
   "cell_type": "code",
   "execution_count": null,
   "metadata": {},
   "outputs": [],
   "source": [
    "print(foo.id)"
   ]
  }
 ],
 "metadata": {
  "language_info": {
   "codemirror_mode": {
    "name": "ipython",
    "version": 3
   },
   "file_extension": ".py",
   "mimetype": "text/x-python",
   "name": "python",
   "nbconvert_exporter": "python",
   "pygments_lexer": "ipython3",
   "version": "3.8.0-final"
  },
  "orig_nbformat": 2,
  "kernelspec": {
   "name": "python38064bitd24ed85acd7f4511b02b52674666fc9b",
   "display_name": "Python 3.8.0 64-bit"
  }
 },
 "nbformat": 4,
 "nbformat_minor": 2
}