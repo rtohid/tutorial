{
 "cells": [
  {
   "cell_type": "markdown",
   "metadata": {},
   "source": [
    "# Overview\n",
    "Phyfleaux is a code analysis and synthesis framework for [Phylanx](https://github.com/stellar-group/phylanx) expression-tree (PhySL). \n",
    "\n",
    "## Who is it for?\n",
    "Big data application developers.\n",
    "- __big-data:__ when the amount of data (number of elements) is \"much\" larger than memory capacity\n",
    "- mesh-based\n",
    "\n",
    "\n",
    "## What it does?\n",
    "1. provides an abstract(?) data-object :class:`phyfleaux.tensor` on top of Numpy's :class:`numpy.array` to transparently manage communication and  portability between CPU(s) and GPU(s).\n",
    "   - _tensors_ are  of data-flow analysis\n",
    "2. includes a suite of _static_ (compile-time) transformation\n",
    "    - Polyhedral\n",
    "    - Rule-Based\n",
    "    - \n",
    "3.  generation\n",
    "    - Phylanx\n",
    "1. \n",
    "\n",
    "_Code_ is machine (_context_) specific while _program_ is **NOT**!\n",
    "\n",
    "<!--\n",
    "\n",
    "Phyfleaux generates \"optimized\" execution-tree of *task-graph* where *tasks* are memory-bound subtrees   executables for the *contexts* running PhySL *tasks*. Executables may inlclude extra statements, and \n",
    "\n",
    ". Code generation usually preceded by series of code transformations based on the architecture, data layout, data access pattern, and runtime environment of the context. performance-metrics, .\n",
    "\n",
    "... cost measurement handles  \n",
    "*task-graph*. \n",
    "\n",
    "...Nodes of the graph are *tasks*, i.e., identified Python functions. \n",
    "\n",
    "builds the task-graph from the Phylanx expression-tree (PhySL). *Task* is   order to improve (minimize) the execution time, Phyfleaux transforms s (a.k.a., PhySL) into task-graphs. . application program run as a set of *tasks* on one or more execution environment(s) which we call *context*. A context consists of a task-graph, target architecture(s) (MIMD, SIMD, SIMT, ...), and also one or more runtime systems (interpreters, executors) running the expressions on target architecture(s).\n",
    "\n",
    "In short, Phyfleaux:\n",
    "\n",
    "1. generates task-graph \n",
    "   - generate the expression-tree (PhySL) \n",
    "   - merging expression-trees of Python functions\n",
    "\n",
    "2. allocates subexpressions to available architecture(s)\n",
    "   - Minimizing application's execution time by maximizing throughputs of its (Python) functions.\n",
    "\n",
    "3. generates executable(s), JIT, for context's runtime\n",
    "\n",
    "4. deploy code along with its data to Agave and Kubernete \n",
    "   - through [JetLag](https://github.com/STEllAR-GROUP/JetLag.git), as needed.\n",
    "\n",
    "5. performance data is collected both at thread-level, through [APEX](https://github.com/khuck/xpress-apex), and task-level for \n",
    "an expression-tree (PhySL),\n",
    "\n",
    "where each node is a [function definition](https://greentreesnakes.readthedocs.io/en/latest/nodes.html#FunctionDef) and edges represent data dependency between two tasks.\n",
    "- There is a cost function associated to each task \n",
    "- Measurements returned by the cost functions are used to maximize applications computational throughput\n",
    "\n",
    "Phyfleaux:\n",
    "\n",
    "1. *statically* generates program's expression-tree (PhySL) __(,  a.k.a., *task-graph/tree*)?__- here by statically we mean any transformation applied after function definition but before its first invokation. or enforced code-generation (\"compile-time transformations\"?).\n",
    "\n",
    "2. based on context's tasks and resources, Phyfleaux applies series of transformations to improve program's throughput. Transformation may be triggered by the user, implicitly or explicitly (), . selected by framework after analyzing data (type, layout, ...) and tasks (parallel, iterative, ...) of the application,  \n",
    "\n",
    "3. For each runtime, Phyfleaux generates executable(-code?) of the invoked tasks based on target contexts.\n",
    "\n",
    "There are two classes of transformations:\n",
    "\n",
    "1. Data transformation\n",
    "2. Computation transformation\n",
    "\n",
    "Two classes of transformation are available. First, task transformations\n",
    "\n",
    "### Create Tasks\n",
    "`@task` is used to instantiate a task from a Python function\n",
    "\n",
    "\n",
    "## Context\n",
    "- architecture: parallel\n",
    "CUDA\n",
    "OPENMP\n",
    "SIMD\n",
    "\n",
    "GPU\n",
    "CPU \n",
    "\n",
    "\n",
    "## Task\n",
    "- wraps Python functions in *tasks*\n",
    "- builds the expression-tree of these tasks (from Python AST)\n",
    "- if neccessary, applies transformations based on (a) invokation context and/or (b) dynamic performance measurements\n",
    "- generates the executable JIT: either once the task (Python function) is called, or the user triggered the cod\n",
    "To Do:\n",
    "- deployment\n",
    "   * kubernetes\n",
    "   * Agave\n",
    "- performance\n",
    "   * APEX/Phylanx\n",
    "   * adaptivity\n",
    "- visualization\n",
    "   * performance data\n",
    "   * task graph\n",
    "-->\n",
    "\n",
    "In short, Phyfleaux aims at maximizing throughput of Python application by exploiting application's, explicit and implicit, concurrency and parallelism. in the application running as many massively-parallel tasks as possible.\n",
    "\n",
    "# Getting Started\n",
    "Let's first make sure `phyfleaux` is on $PYTHONPATH:"
   ]
  },
  {
   "cell_type": "code",
   "execution_count": 1,
   "metadata": {},
   "outputs": [],
   "source": [
    "# If running from a ste||ar-container (https://github.com/rtohid/docker-build/blob/master/phyfleaux/Dockerfile.pytiramisu)\n",
    "STELLAR_CONTAINER = True\n",
    "if STELLAR_CONTAINER:\n",
    "    sys.path.append('/home/stellar/git/phyfleaux/')\n",
    "import phyfleaux"
   ]
  },
  {
   "cell_type": "markdown",
   "metadata": {},
   "source": [
    "## Task\n",
    "\n",
    "<!-- Code blocks (essentially Python functions) with their associated Python AST (PAST) and corresponding expression-tree (PhySL). An easy way to create a :class:`Task` object is to use `@task`. Here is a task created from :func:`nothing` which does nothing. -->"
   ]
  },
  {
   "cell_type": "code",
   "execution_count": 2,
   "metadata": {},
   "outputs": [
    {
     "output_type": "error",
     "ename": "ModuleNotFoundError",
     "evalue": "No module named 'phyfleaux.task'",
     "traceback": [
      "\u001b[0;31m---------------------------------------------------------------------------\u001b[0m",
      "\u001b[0;31mModuleNotFoundError\u001b[0m                       Traceback (most recent call last)",
      "\u001b[0;32m<ipython-input-2-bbd2367c5158>\u001b[0m in \u001b[0;36m<module>\u001b[0;34m\u001b[0m\n\u001b[0;32m----> 1\u001b[0;31m \u001b[0;32mfrom\u001b[0m \u001b[0mphyfleaux\u001b[0m\u001b[0;34m.\u001b[0m\u001b[0mapi\u001b[0m\u001b[0;34m.\u001b[0m\u001b[0mdirectives\u001b[0m \u001b[0;32mimport\u001b[0m \u001b[0mtask\u001b[0m\u001b[0;34m\u001b[0m\u001b[0;34m\u001b[0m\u001b[0m\n\u001b[0m\u001b[1;32m      2\u001b[0m \u001b[0;34m\u001b[0m\u001b[0m\n\u001b[1;32m      3\u001b[0m \u001b[0;34m@\u001b[0m\u001b[0mtask\u001b[0m\u001b[0;34m\u001b[0m\u001b[0;34m\u001b[0m\u001b[0m\n\u001b[1;32m      4\u001b[0m \u001b[0;32mdef\u001b[0m \u001b[0mnothing\u001b[0m\u001b[0;34m(\u001b[0m\u001b[0;34m)\u001b[0m\u001b[0;34m:\u001b[0m\u001b[0;34m\u001b[0m\u001b[0;34m\u001b[0m\u001b[0m\n\u001b[1;32m      5\u001b[0m     \u001b[0;32mpass\u001b[0m\u001b[0;34m\u001b[0m\u001b[0;34m\u001b[0m\u001b[0m\n",
      "\u001b[0;32m~/git/phyfleaux/phyfleaux/api/directives.py\u001b[0m in \u001b[0;36m<module>\u001b[0;34m\u001b[0m\n\u001b[1;32m     12\u001b[0m \u001b[0;32mfrom\u001b[0m \u001b[0mtyping\u001b[0m \u001b[0;32mimport\u001b[0m \u001b[0mCallable\u001b[0m\u001b[0;34m\u001b[0m\u001b[0;34m\u001b[0m\u001b[0m\n\u001b[1;32m     13\u001b[0m \u001b[0;34m\u001b[0m\u001b[0m\n\u001b[0;32m---> 14\u001b[0;31m \u001b[0;32mfrom\u001b[0m \u001b[0mphyfleaux\u001b[0m\u001b[0;34m.\u001b[0m\u001b[0mtask\u001b[0m \u001b[0;32mimport\u001b[0m \u001b[0mTask\u001b[0m\u001b[0;34m\u001b[0m\u001b[0;34m\u001b[0m\u001b[0m\n\u001b[0m\u001b[1;32m     15\u001b[0m \u001b[0;32mfrom\u001b[0m \u001b[0mphyfleaux\u001b[0m\u001b[0;34m.\u001b[0m\u001b[0mpolytope\u001b[0m \u001b[0;32mimport\u001b[0m \u001b[0mPolytope\u001b[0m\u001b[0;34m\u001b[0m\u001b[0;34m\u001b[0m\u001b[0m\n\u001b[1;32m     16\u001b[0m \u001b[0;34m\u001b[0m\u001b[0m\n",
      "\u001b[0;31mModuleNotFoundError\u001b[0m: No module named 'phyfleaux.task'"
     ]
    }
   ],
   "source": [
    "from phyfleaux.api.directives import task\n",
    "\n",
    "@task\n",
    "def nothing():\n",
    "    pass\n",
    "\n",
    "type(nothing)"
   ]
  },
  {
   "cell_type": "markdown",
   "metadata": {},
   "source": [
    "Tasks are Python functions associated with a memory-independent ID `id`, an AST `tree`, input data (to initiate the local symbol table) `input`, and a callback function (quantifying execution cost) `cost` as well as its derivative `derivative` (value, or yet another callback function)."
   ]
  },
  {
   "cell_type": "code",
   "execution_count": 3,
   "metadata": {},
   "outputs": [
    {
     "output_type": "error",
     "ename": "NameError",
     "evalue": "name 'task' is not defined",
     "traceback": [
      "\u001b[0;31m---------------------------------------------------------------------------\u001b[0m",
      "\u001b[0;31mNameError\u001b[0m                                 Traceback (most recent call last)",
      "\u001b[0;32m<ipython-input-3-42f470b03773>\u001b[0m in \u001b[0;36m<module>\u001b[0;34m\u001b[0m\n\u001b[1;32m      5\u001b[0m \u001b[0mpython_attributes\u001b[0m \u001b[0;34m=\u001b[0m \u001b[0mnothing\u001b[0m\u001b[0;34m.\u001b[0m\u001b[0m__dir__\u001b[0m\u001b[0;34m(\u001b[0m\u001b[0;34m)\u001b[0m\u001b[0;34m\u001b[0m\u001b[0;34m\u001b[0m\u001b[0m\n\u001b[1;32m      6\u001b[0m \u001b[0;34m\u001b[0m\u001b[0m\n\u001b[0;32m----> 7\u001b[0;31m \u001b[0;34m@\u001b[0m\u001b[0mtask\u001b[0m\u001b[0;34m\u001b[0m\u001b[0;34m\u001b[0m\u001b[0m\n\u001b[0m\u001b[1;32m      8\u001b[0m \u001b[0;32mdef\u001b[0m \u001b[0mnothing\u001b[0m\u001b[0;34m(\u001b[0m\u001b[0;34m)\u001b[0m\u001b[0;34m:\u001b[0m\u001b[0;34m\u001b[0m\u001b[0;34m\u001b[0m\u001b[0m\n\u001b[1;32m      9\u001b[0m     \u001b[0;32mpass\u001b[0m\u001b[0;34m\u001b[0m\u001b[0;34m\u001b[0m\u001b[0m\n",
      "\u001b[0;31mNameError\u001b[0m: name 'task' is not defined"
     ]
    }
   ],
   "source": [
    "def nothing():\n",
    "    pass\n",
    "\n",
    "# attributes of the pure Python function\n",
    "python_attributes = nothing.__dir__()\n",
    "\n",
    "@task\n",
    "def nothing():\n",
    "    pass\n",
    "\n",
    "# Task attributes\n",
    "fleaux_attributes = nothing.__dir__()\n",
    "\n",
    "print(set(fleaux_attributes) - set(python_attributes))\n",
    "\n",
    "print(nothing.__weakref__)\n",
    "\n",
    "t = task(nothing)"
   ]
  },
  {
   "cell_type": "code",
   "execution_count": 4,
   "metadata": {},
   "outputs": [
    {
     "output_type": "error",
     "ename": "NameError",
     "evalue": "name 'task' is not defined",
     "traceback": [
      "\u001b[0;31m---------------------------------------------------------------------------\u001b[0m",
      "\u001b[0;31mNameError\u001b[0m                                 Traceback (most recent call last)",
      "\u001b[0;32m<ipython-input-4-46fe6c0b87c1>\u001b[0m in \u001b[0;36m<module>\u001b[0;34m\u001b[0m\n\u001b[0;32m----> 1\u001b[0;31m \u001b[0;34m@\u001b[0m\u001b[0mtask\u001b[0m\u001b[0;34m\u001b[0m\u001b[0;34m\u001b[0m\u001b[0m\n\u001b[0m\u001b[1;32m      2\u001b[0m \u001b[0;32mdef\u001b[0m \u001b[0mfoo\u001b[0m\u001b[0;34m(\u001b[0m\u001b[0mname\u001b[0m\u001b[0;34m=\u001b[0m\u001b[0;34m'World'\u001b[0m\u001b[0;34m)\u001b[0m\u001b[0;34m:\u001b[0m\u001b[0;34m\u001b[0m\u001b[0;34m\u001b[0m\u001b[0m\n\u001b[1;32m      3\u001b[0m     \u001b[0mprint\u001b[0m\u001b[0;34m(\u001b[0m\u001b[0;34mf\"Hello {name}!\"\u001b[0m\u001b[0;34m)\u001b[0m\u001b[0;34m\u001b[0m\u001b[0;34m\u001b[0m\u001b[0m\n",
      "\u001b[0;31mNameError\u001b[0m: name 'task' is not defined"
     ]
    }
   ],
   "source": [
    "@task\n",
    "def foo(name='World'):\n",
    "    print(f\"Hello {name}!\")"
   ]
  },
  {
   "cell_type": "code",
   "execution_count": 5,
   "metadata": {},
   "outputs": [
    {
     "output_type": "error",
     "ename": "NameError",
     "evalue": "name 'foo' is not defined",
     "traceback": [
      "\u001b[0;31m---------------------------------------------------------------------------\u001b[0m",
      "\u001b[0;31mNameError\u001b[0m                                 Traceback (most recent call last)",
      "\u001b[0;32m<ipython-input-5-1044b029aae5>\u001b[0m in \u001b[0;36m<module>\u001b[0;34m\u001b[0m\n\u001b[0;32m----> 1\u001b[0;31m \u001b[0mprint\u001b[0m\u001b[0;34m(\u001b[0m\u001b[0mtype\u001b[0m\u001b[0;34m(\u001b[0m\u001b[0mfoo\u001b[0m\u001b[0;34m)\u001b[0m\u001b[0;34m)\u001b[0m\u001b[0;34m\u001b[0m\u001b[0;34m\u001b[0m\u001b[0m\n\u001b[0m",
      "\u001b[0;31mNameError\u001b[0m: name 'foo' is not defined"
     ]
    }
   ],
   "source": [
    "print(type(foo))"
   ]
  },
  {
   "cell_type": "markdown",
   "metadata": {},
   "source": [
    "# Phyfleaux\n",
    "\n",
    "## Context\n",
    "### Runtime\n",
    "+ Phylanx\n",
    "   - run PhySL\n",
    "+ CPython\n",
    "   - run Python-3.8.3+\n",
    "+ Numba\n",
    "   - run LLVM IR\n",
    "\n",
    "\n",
    "### Architecture\n",
    "+ SIMT\n",
    "   - GPU\n",
    " \n",
    "+ SIMD and MIMD\n",
    "   - CPU\n",
    "\n",
    "+ Hybrid\n",
    "   - CPU and GPU\n",
    "\n",
    "Also, all the above in distributed settings.\n",
    "\n",
    "## Task"
   ]
  }
 ],
 "metadata": {
  "language_info": {
   "codemirror_mode": {
    "name": "ipython",
    "version": 3
   },
   "file_extension": ".py",
   "mimetype": "text/x-python",
   "name": "python",
   "nbconvert_exporter": "python",
   "pygments_lexer": "ipython3",
   "version": "3.8.0-final"
  },
  "orig_nbformat": 2,
  "kernelspec": {
   "name": "python38064bitd24ed85acd7f4511b02b52674666fc9b",
   "display_name": "Python 3.8.0 64-bit"
  }
 },
 "nbformat": 4,
 "nbformat_minor": 2
}